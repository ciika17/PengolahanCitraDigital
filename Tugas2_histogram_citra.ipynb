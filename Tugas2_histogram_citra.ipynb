{
  "nbformat": 4,
  "nbformat_minor": 0,
  "metadata": {
    "colab": {
      "provenance": [],
      "collapsed_sections": [],
      "authorship_tag": "ABX9TyOdv6MOhgkCLuIvJB0ReOgX",
      "include_colab_link": true
    },
    "kernelspec": {
      "name": "python3",
      "display_name": "Python 3"
    },
    "language_info": {
      "name": "python"
    }
  },
  "cells": [
    {
      "cell_type": "markdown",
      "metadata": {
        "id": "view-in-github",
        "colab_type": "text"
      },
      "source": [
        "<a href=\"https://colab.research.google.com/github/ciika17/PengolahanCitraDigital/blob/main/Tugas2_histogram_citra.ipynb\" target=\"_parent\"><img src=\"https://colab.research.google.com/assets/colab-badge.svg\" alt=\"Open In Colab\"/></a>"
      ]
    },
    {
      "cell_type": "code",
      "source": [
        "#import gambar dari komputer\n",
        "from google.colab import files\n",
        "\n",
        "file = files.upload()"
      ],
      "metadata": {
        "id": "zFRUDJxTqZdo"
      },
      "execution_count": null,
      "outputs": []
    },
    {
      "cell_type": "code",
      "source": [
        "ls"
      ],
      "metadata": {
        "id": "k3zeUnK4rQvD"
      },
      "execution_count": null,
      "outputs": []
    },
    {
      "cell_type": "code",
      "source": [
        "#library opencv\n",
        "import cv2\n",
        "\n",
        "#memanggil fungsi google colab untuk perbaikan cv2.imshow\n",
        "from google.colab.patches import cv2_imshow\n",
        "\n",
        "#menyimpan gambar dengan fungsi imread dari openCV\n",
        "img = cv2.imread(\"cika.jpg\")\n",
        "\n",
        "#menampilkan gambar dengan fungsi cv2_show\n",
        "cv2_imshow(img)"
      ],
      "metadata": {
        "id": "4VxmpPSvrapN"
      },
      "execution_count": null,
      "outputs": []
    },
    {
      "cell_type": "code",
      "source": [
        "#memanggil fungsi plt dari matplotlib\n",
        "import cv2 as cv\n",
        "from matplotlib import pyplot as plt\n",
        "\n",
        "cika = cv.cvtColor(cv.imread('cika.jpg'), cv.COLOR_BGR2RGB)\n",
        "plt.imshow(cika)\n",
        "plt.show()"
      ],
      "metadata": {
        "id": "IU5_LmkUtfWw"
      },
      "execution_count": null,
      "outputs": []
    },
    {
      "cell_type": "code",
      "source": [
        "#menampilkan histogram\n",
        "import cv2\n",
        "import numpy as np\n",
        "from matplotlib import pyplot as plt\n",
        "\n",
        "color = ('b','g','r')\n",
        "for i,col in enumerate(color):\n",
        "  histr = cv2.calcHist([img], [i], None, [256],[0,256])\n",
        "  plt.plot(histr,color = col)\n",
        "  plt.xlim([0,256])\n",
        "plt.show()\n"
      ],
      "metadata": {
        "id": "MMGbRQWixUq_"
      },
      "execution_count": null,
      "outputs": []
    },
    {
      "cell_type": "code",
      "source": [
        "#plotting menggunakan fungsi histogram dari pyplot\n",
        "plt.hist(cika.ravel(),256,[0,256]);\n",
        "plt.show()"
      ],
      "metadata": {
        "id": "DCldHp4Yy5F_"
      },
      "execution_count": null,
      "outputs": []
    }
  ]
}