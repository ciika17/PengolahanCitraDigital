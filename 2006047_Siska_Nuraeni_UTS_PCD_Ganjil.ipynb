{
  "nbformat": 4,
  "nbformat_minor": 0,
  "metadata": {
    "colab": {
      "provenance": [],
      "mount_file_id": "1NJqF9IFxbVMgA8MbucobHd550YiHplLq",
      "authorship_tag": "ABX9TyOgH3epg/jBVDIC3MJoE8XP",
      "include_colab_link": true
    },
    "kernelspec": {
      "name": "python3",
      "display_name": "Python 3"
    },
    "language_info": {
      "name": "python"
    }
  },
  "cells": [
    {
      "cell_type": "markdown",
      "metadata": {
        "id": "view-in-github",
        "colab_type": "text"
      },
      "source": [
        "<a href=\"https://colab.research.google.com/github/ciika17/PengolahanCitraDigital/blob/main/2006047_Siska_Nuraeni_UTS_PCD_Ganjil.ipynb\" target=\"_parent\"><img src=\"https://colab.research.google.com/assets/colab-badge.svg\" alt=\"Open In Colab\"/></a>"
      ]
    },
    {
      "cell_type": "code",
      "execution_count": 6,
      "metadata": {
        "id": "0mZB7nTejEac"
      },
      "outputs": [],
      "source": [
        "import cv2 as cv\n",
        "import numpy as np\n",
        "import matplotlib.pyplot as plt\n",
        "\n",
        "from google.colab.patches import cv2_imshow\n",
        "from skimage import io\n",
        "from PIL import Image"
      ]
    },
    {
      "cell_type": "code",
      "source": [
        "#link image\n",
        "url =\"https://mobile.facebook.com/photo.php?fbid=134287676077525&id=100084888784489&set=a.134287752744184&eav=AfaXiKMPgm0KL1oQHh6soaHWbvBnx2E_ji2kDFhK-0_mDH_w065Em7akWW28HlxaTxI&paipv=0&source=48&refid=17&_ft_=encrypted_tracking_data.0AY8mR1ScT7TVWDU9fl9A1jFz6RJH1u8aCEWdbqGJf9TdN9UCRcZWK_UxUxfLTWf3SUIJZJFIJHaQt7pAMCBaUqh7_KqN7qFFOD699X0YfuZneIcP2RKc8trXybe8dTafYbEL0Pbk-sWg6v-07VzKEQWPMqGTo3PzgUbtvMQyC2Kw9UvN4UvdfNVASXDdfE6HycsqCejxkaTnpIqQNdH3A9oWK-KBxS6hpQT-gICc77eMNAFS4MO2FUq73G7PIrYF2A3TOE6RcNgkCLdfKtPDRA5IzFYhS55z3pzX4g6yGldvNJ16hHSOFjN1gSxeSzF5DKa1nCqQ7x99Ab5-Twt7k1XBUGc8x2pvGGNnTdzUZAIm2vBR_Lc3MvlJl9GPTxVY-ZrMuUGbcyfo8aLxNx-FMKn0f_1XPyqY6KhrDYkad1u2XhRhQh-V9KJFApE3mo7RLhDOKrkFlGzUNwgbpIrmwJkRhrjPQQcCr63B5-dF8kssvm2DWdtWeVbLrcjFLjjU63Q6-7451WUS2V5e5jEN4FMdBtIlEllYQagEYY9hgXBQGTHa6vWxagBoCr3ofj-zMXG2sX8EHTtTN-frubGUrC20YS5Z2NPu31TeAdfYUmtP68qOSEVnv6GSq1znXbpETkQQrdPR1U61DFGTln6EdsARShTy3xmzTBcDzqXT3NMms4-ZCiNBT3bejQUknsBJOH9aPm5POgA7Tjl7TlGqH4AI_tYE-wLllYFcVhrHd20IgO_xUV7ceBn-uBrsBAmAUOOBtoznzG8pb2XqTs4D&__tn__=EH-R\n",
        "image_2 = cv.cvtColor(image, cv.COLOR_BGR2RGB)\n",
        "final_frame = cv.hconcat((image, image_2))\n",
        "cv2_imshow(final_frame)"
      ],
      "metadata": {
        "id": "2uWSw8zJkTRZ"
      },
      "execution_count": null,
      "outputs": []
    },
    {
      "cell_type": "code",
      "source": [
        "print(image.size)\n",
        "print(image.shape)\n",
        "print(image.dtype)"
      ],
      "metadata": {
        "id": "YJmn94wjrEDm"
      },
      "execution_count": null,
      "outputs": []
    },
    {
      "cell_type": "code",
      "source": [
        "import numpy as np\n",
        "a = np.array([[1,2,2,2,10],[10,20,30,40,50]])\n",
        "print(a)\n",
        "print(a.ravel())\n",
        "print(a.flatten())\n",
        "plt.hist(a.ravel(),bins = 50, range = [0,50])\n",
        "plt.show()"
      ],
      "metadata": {
        "id": "XJx1OnXSrG-Q"
      },
      "execution_count": null,
      "outputs": []
    },
    {
      "cell_type": "code",
      "source": [
        "plt.hist(image.ravel(), bins = 256, range = [0,256])\n",
        "plt.show()"
      ],
      "metadata": {
        "id": "Tv0w6hxCrMAp"
      },
      "execution_count": null,
      "outputs": []
    },
    {
      "cell_type": "code",
      "source": [
        "color = ('b','g','r')\n",
        "for i,col in enumerate(color):\n",
        "  histogr = cv.calcHist([image], [i], None, [256], [0,256])\n",
        "  plt.plot(histogr, color = col)\n",
        "  plt.xlim([0,256])\n",
        "plt.show()"
      ],
      "metadata": {
        "id": "Ji1lPJMRrPm2"
      },
      "execution_count": null,
      "outputs": []
    },
    {
      "cell_type": "code",
      "source": [
        "color = ('b','g','r')\n",
        "for i,col in enumerate(color):\n",
        "  histogr = cv.calcHist([image], [i], None, [4], [0,256])\n",
        "  plt.plot(histogr, color = col)\n",
        "  plt.xlim([0,4])\n",
        "plt.show()"
      ],
      "metadata": {
        "id": "fH0aMqgXrSMx"
      },
      "execution_count": null,
      "outputs": []
    },
    {
      "cell_type": "code",
      "source": [
        "color = ('b','g','r')\n",
        "for i,col in enumerate(color):\n",
        "  histogr = cv.calcHist([image], [i], None, [8], [0,256])\n",
        "  plt.plot(histogr, color = col)\n",
        "  plt.show()"
      ],
      "metadata": {
        "id": "_HVOV9GTrU5j"
      },
      "execution_count": null,
      "outputs": []
    },
    {
      "cell_type": "code",
      "source": [
        "color = ('b','g','r')\n",
        "for i,col in enumerate(color):\n",
        "  histogr = cv.calcHist([image], [i], None, [32], [0,256])\n",
        "  plt.plot(histogr, color = col)\n",
        "plt.show()"
      ],
      "metadata": {
        "id": "xv3SqTbFrYBF"
      },
      "execution_count": null,
      "outputs": []
    },
    {
      "cell_type": "code",
      "source": [
        "b,g,r = cv.split(image)\n",
        "cv2_imshow(b)"
      ],
      "metadata": {
        "id": "vcLPrxCZrbKj"
      },
      "execution_count": null,
      "outputs": []
    },
    {
      "cell_type": "code",
      "source": [
        "image = io.imread(url)\n",
        "\n",
        "#blue channel\n",
        "bluech = image[:,:,0]\n",
        "cv2_imshow(bluech)"
      ],
      "metadata": {
        "id": "Kak37SNhrd8d"
      },
      "execution_count": null,
      "outputs": []
    },
    {
      "cell_type": "code",
      "source": [
        "plt.hist(bluech.ravel(), 16, [0, 256], color='blue')\n",
        "plt.xlabel('Bins 16')\n",
        "plt.ylabel('Num of Pixel')\n",
        "plt.show()"
      ],
      "metadata": {
        "id": "18j1TCn3rgzR"
      },
      "execution_count": null,
      "outputs": []
    }
  ]
}
