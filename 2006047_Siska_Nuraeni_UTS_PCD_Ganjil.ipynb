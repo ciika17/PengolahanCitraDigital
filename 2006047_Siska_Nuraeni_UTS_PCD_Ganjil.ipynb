{
  "nbformat": 4,
  "nbformat_minor": 0,
  "metadata": {
    "colab": {
      "provenance": [],
      "mount_file_id": "1NJqF9IFxbVMgA8MbucobHd550YiHplLq",
      "authorship_tag": "ABX9TyOgH3epg/jBVDIC3MJoE8XP",
      "include_colab_link": true
    },
    "kernelspec": {
      "name": "python3",
      "display_name": "Python 3"
    },
    "language_info": {
      "name": "python"
    }
  },
  "cells": [
    {
      "cell_type": "markdown",
      "metadata": {
        "id": "view-in-github",
        "colab_type": "text"
      },
      "source": [
        "<a href=\"https://colab.research.google.com/github/ciika17/PengolahanCitraDigital/blob/main/2006047_Siska_Nuraeni_UTS_PCD_Ganjil.ipynb\" target=\"_parent\"><img src=\"https://colab.research.google.com/assets/colab-badge.svg\" alt=\"Open In Colab\"/></a>"
      ]
    },
    {
      "cell_type": "code",
      "execution_count": 6,
      "metadata": {
        "id": "0mZB7nTejEac"
      },
      "outputs": [],
      "source": [
        "import cv2 as cv\n",
        "import numpy as np\n",
        "import matplotlib.pyplot as plt\n",
        "\n",
        "from google.colab.patches import cv2_imshow\n",
        "from skimage import io\n",
        "from PIL import Image"
      ]
    },
    {
      "cell_type": "code",
      "source": [
        "#link image\n",
        "url =\"data:image/jpeg;base64,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\"\n",
        "image = io.imread(url)\n",
        "image_2 = cv.cvtColor(image, cv.COLOR_BGR2RGB)\n",
        "final_frame = cv.hconcat((image, image_2))\n",
        "cv2_imshow(final_frame)"
      ],
      "metadata": {
        "id": "2uWSw8zJkTRZ"
      },
      "execution_count": null,
      "outputs": []
    },
    {
      "cell_type": "code",
      "source": [
        "print(image.size)\n",
        "print(image.shape)\n",
        "print(image.dtype)"
      ],
      "metadata": {
        "id": "YJmn94wjrEDm"
      },
      "execution_count": null,
      "outputs": []
    },
    {
      "cell_type": "code",
      "source": [
        "import numpy as np\n",
        "a = np.array([[1,2,2,2,10],[10,20,30,40,50]])\n",
        "print(a)\n",
        "print(a.ravel())\n",
        "print(a.flatten())\n",
        "plt.hist(a.ravel(),bins = 50, range = [0,50])\n",
        "plt.show()"
      ],
      "metadata": {
        "id": "XJx1OnXSrG-Q"
      },
      "execution_count": null,
      "outputs": []
    },
    {
      "cell_type": "code",
      "source": [
        "plt.hist(image.ravel(), bins = 256, range = [0,256])\n",
        "plt.show()"
      ],
      "metadata": {
        "id": "Tv0w6hxCrMAp"
      },
      "execution_count": null,
      "outputs": []
    },
    {
      "cell_type": "code",
      "source": [
        "color = ('b','g','r')\n",
        "for i,col in enumerate(color):\n",
        "  histogr = cv.calcHist([image], [i], None, [256], [0,256])\n",
        "  plt.plot(histogr, color = col)\n",
        "  plt.xlim([0,256])\n",
        "plt.show()"
      ],
      "metadata": {
        "id": "Ji1lPJMRrPm2"
      },
      "execution_count": null,
      "outputs": []
    },
    {
      "cell_type": "code",
      "source": [
        "color = ('b','g','r')\n",
        "for i,col in enumerate(color):\n",
        "  histogr = cv.calcHist([image], [i], None, [4], [0,256])\n",
        "  plt.plot(histogr, color = col)\n",
        "  plt.xlim([0,4])\n",
        "plt.show()"
      ],
      "metadata": {
        "id": "fH0aMqgXrSMx"
      },
      "execution_count": null,
      "outputs": []
    },
    {
      "cell_type": "code",
      "source": [
        "color = ('b','g','r')\n",
        "for i,col in enumerate(color):\n",
        "  histogr = cv.calcHist([image], [i], None, [8], [0,256])\n",
        "  plt.plot(histogr, color = col)\n",
        "  plt.show()"
      ],
      "metadata": {
        "id": "_HVOV9GTrU5j"
      },
      "execution_count": null,
      "outputs": []
    },
    {
      "cell_type": "code",
      "source": [
        "color = ('b','g','r')\n",
        "for i,col in enumerate(color):\n",
        "  histogr = cv.calcHist([image], [i], None, [32], [0,256])\n",
        "  plt.plot(histogr, color = col)\n",
        "plt.show()"
      ],
      "metadata": {
        "id": "xv3SqTbFrYBF"
      },
      "execution_count": null,
      "outputs": []
    },
    {
      "cell_type": "code",
      "source": [
        "b,g,r = cv.split(image)\n",
        "cv2_imshow(b)"
      ],
      "metadata": {
        "id": "vcLPrxCZrbKj"
      },
      "execution_count": null,
      "outputs": []
    },
    {
      "cell_type": "code",
      "source": [
        "image = io.imread(url)\n",
        "\n",
        "#blue channel\n",
        "bluech = image[:,:,0]\n",
        "cv2_imshow(bluech)"
      ],
      "metadata": {
        "id": "Kak37SNhrd8d"
      },
      "execution_count": null,
      "outputs": []
    },
    {
      "cell_type": "code",
      "source": [
        "plt.hist(bluech.ravel(), 16, [0, 256], color='blue')\n",
        "plt.xlabel('Bins 16')\n",
        "plt.ylabel('Num of Pixel')\n",
        "plt.show()"
      ],
      "metadata": {
        "id": "18j1TCn3rgzR"
      },
      "execution_count": null,
      "outputs": []
    }
  ]
}