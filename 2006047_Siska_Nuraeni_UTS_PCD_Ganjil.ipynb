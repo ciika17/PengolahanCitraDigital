{
  "nbformat": 4,
  "nbformat_minor": 0,
  "metadata": {
    "colab": {
      "provenance": [],
      "include_colab_link": true
    },
    "kernelspec": {
      "name": "python3",
      "display_name": "Python 3"
    },
    "language_info": {
      "name": "python"
    }
  },
  "cells": [
    {
      "cell_type": "markdown",
      "metadata": {
        "id": "view-in-github",
        "colab_type": "text"
      },
      "source": [
        "<a href=\"https://colab.research.google.com/github/ciika17/PengolahanCitraDigital/blob/main/2006047_Siska_Nuraeni_UTS_PCD_Ganjil.ipynb\" target=\"_parent\"><img src=\"https://colab.research.google.com/assets/colab-badge.svg\" alt=\"Open In Colab\"/></a>"
      ]
    },
    {
      "cell_type": "code",
      "execution_count": null,
      "metadata": {
        "id": "0mZB7nTejEac"
      },
      "outputs": [],
      "source": [
        "import cv2 as cv\n",
        "import numpy as np\n",
        "import matplotlib.pyplot as plt\n",
        "\n",
        "from google.colab.patches import cv2_imshow\n",
        "from skimage import io\n",
        "from PIL import Image"
      ]
    },
    {
      "cell_type": "code",
      "source": [
        "#link image\n",
        "url =\"https://mobile.facebook.com/photo.php?fbid=134287676077525&id=100084888784489&set=a.134287752744184&eav=AfaXiKMPgm0KL1oQHh6soaHWbvBnx2E_ji2kDFhK-0_mDH_w065Em7akWW28HlxaTxI&paipv=0&source=48&refid=17&_ft_=encrypted_tracking_data.0AY8mR1ScT7TVWDU9fl9A1jFz6RJH1u8aCEWdbqGJf9TdN9UCRcZWK_UxUxfLTWf3SUIJZJFIJHaQt7pAMCBaUqh7_KqN7qFFOD699X0YfuZneIcP2RKc8trXybe8dTafYbEL0Pbk-sWg6v-07VzKEQWPMqGTo3PzgUbtvMQyC2Kw9UvN4UvdfNVASXDdfE6HycsqCejxkaTnpIqQNdH3A9oWK-KBxS6hpQT-gICc77eMNAFS4MO2FUq73G7PIrYF2A3TOE6RcNgkCLdfKtPDRA5IzFYhS55z3pzX4g6yGldvNJ16hHSOFjN1gSxeSzF5DKa1nCqQ7x99Ab5-Twt7k1XBUGc8x2pvGGNnTdzUZAIm2vBR_Lc3MvlJl9GPTxVY-ZrMuUGbcyfo8aLxNx-FMKn0f_1XPyqY6KhrDYkad1u2XhRhQh-V9KJFApE3mo7RLhDOKrkFlGzUNwgbpIrmwJkRhrjPQQcCr63B5-dF8kssvm2DWdtWeVbLrcjFLjjU63Q6-7451WUS2V5e5jEN4FMdBtIlEllYQagEYY9hgXBQGTHa6vWxagBoCr3ofj-zMXG2sX8EHTtTN-frubGUrC20YS5Z2NPu31TeAdfYUmtP68qOSEVnv6GSq1znXbpETkQQrdPR1U61DFGTln6EdsARShTy3xmzTBcDzqXT3NMms4-ZCiNBT3bejQUknsBJOH9aPm5POgA7Tjl7TlGqH4AI_tYE-wLllYFcVhrHd20IgO_xUV7ceBn-uBrsBAmAUOOBtoznzG8pb2XqTs4D&__tn__=EH-R\"\n",
        "image_2 = cv.cvtColor(image, cv.COLOR_BGR2RGB)\n",
        "final_frame = cv.hconcat((image, image_2))\n",
        "cv2_imshow(final_frame)"
      ],
      "metadata": {
        "id": "2uWSw8zJkTRZ"
      },
      "execution_count": null,
      "outputs": []
    },
    {
      "cell_type": "code",
      "source": [
        "print(image.size)\n",
        "print(image.shape)\n",
        "print(image.dtype)"
      ],
      "metadata": {
        "id": "YJmn94wjrEDm"
      },
      "execution_count": null,
      "outputs": []
    },
    {
      "cell_type": "code",
      "source": [
        "import numpy as np\n",
        "a = np.array([[1,2,2,2,10],[10,20,30,40,50]])\n",
        "print(a)\n",
        "print(a.ravel())\n",
        "print(a.flatten())\n",
        "plt.hist(a.ravel(),bins = 50, range = [0,50])\n",
        "plt.show()"
      ],
      "metadata": {
        "id": "XJx1OnXSrG-Q"
      },
      "execution_count": null,
      "outputs": []
    },
    {
      "cell_type": "code",
      "source": [
        "plt.hist(image.ravel(), bins = 256, range = [0,256])\n",
        "plt.show()"
      ],
      "metadata": {
        "id": "Tv0w6hxCrMAp"
      },
      "execution_count": null,
      "outputs": []
    },
    {
      "cell_type": "code",
      "source": [
        "color = ('b','g','r')\n",
        "for i,col in enumerate(color):\n",
        "  histogr = cv.calcHist([image], [i], None, [256], [0,256])\n",
        "  plt.plot(histogr, color = col)\n",
        "  plt.xlim([0,256])\n",
        "plt.show()"
      ],
      "metadata": {
        "id": "Ji1lPJMRrPm2"
      },
      "execution_count": null,
      "outputs": []
    },
    {
      "cell_type": "code",
      "source": [
        "color = ('b','g','r')\n",
        "for i,col in enumerate(color):\n",
        "  histogr = cv.calcHist([image], [i], None, [4], [0,256])\n",
        "  plt.plot(histogr, color = col)\n",
        "  plt.xlim([0,4])\n",
        "plt.show()"
      ],
      "metadata": {
        "id": "fH0aMqgXrSMx"
      },
      "execution_count": null,
      "outputs": []
    },
    {
      "cell_type": "code",
      "source": [
        "color = ('b','g','r')\n",
        "for i,col in enumerate(color):\n",
        "  histogr = cv.calcHist([image], [i], None, [8], [0,256])\n",
        "  plt.plot(histogr, color = col)\n",
        "  plt.show()"
      ],
      "metadata": {
        "id": "_HVOV9GTrU5j"
      },
      "execution_count": null,
      "outputs": []
    },
    {
      "cell_type": "code",
      "source": [
        "color = ('b','g','r')\n",
        "for i,col in enumerate(color):\n",
        "  histogr = cv.calcHist([image], [i], None, [32], [0,256])\n",
        "  plt.plot(histogr, color = col)\n",
        "plt.show()"
      ],
      "metadata": {
        "id": "xv3SqTbFrYBF",
        "outputId": "63bf7bc4-b230-4468-b68a-87da5ee7208a",
        "colab": {
          "base_uri": "https://localhost:8080/",
          "height": 265
        }
      },
      "execution_count": 51,
      "outputs": [
        {
          "output_type": "display_data",
          "data": {
            "text/plain": [
              "<Figure size 432x288 with 1 Axes>"
            ],
            "image/png": "[encoded data removed]"
          },
          "metadata": {
            "needs_background": "light"
          }
        }
      ]
    },
    {
      "cell_type": "code",
      "source": [
        "b,g,r = cv.split(image)\n",
        "cv2_imshow(b)"
      ],
      "metadata": {
        "id": "vcLPrxCZrbKj"
      },
      "execution_count": null,
      "outputs": []
    },
    {
      "cell_type": "code",
      "source": [
        "image = io.imread(url)\n",
        "\n",
        "#blue channel\n",
        "bluech = image[:,:,0]\n",
        "cv2_imshow(bluech)"
      ],
      "metadata": {
        "id": "Kak37SNhrd8d",
        "outputId": "4e5a72a4-6248-4d93-f903-c69367f6005f",
        "colab": {
          "base_uri": "https://localhost:8080/",
          "height": 380
        }
      },
      "execution_count": 52,
      "outputs": [
        {
          "output_type": "error",
          "ename": "ValueError",
          "evalue": "ignored",
          "traceback": [
            "\u001b[0;31m---------------------------------------------------------------------------\u001b[0m",
            "\u001b[0;31mValueError\u001b[0m                                Traceback (most recent call last)",
            "\u001b[0;32m<ipython-input-52-ba93d85399d8>\u001b[0m in \u001b[0;36m<module>\u001b[0;34m\u001b[0m\n\u001b[0;32m----> 1\u001b[0;31m \u001b[0mimage\u001b[0m \u001b[0;34m=\u001b[0m \u001b[0mio\u001b[0m\u001b[0;34m.\u001b[0m\u001b[0mimread\u001b[0m\u001b[0;34m(\u001b[0m\u001b[0murl\u001b[0m\u001b[0;34m)\u001b[0m\u001b[0;34m\u001b[0m\u001b[0;34m\u001b[0m\u001b[0m\n\u001b[0m\u001b[1;32m      2\u001b[0m \u001b[0;34m\u001b[0m\u001b[0m\n\u001b[1;32m      3\u001b[0m \u001b[0;31m#blue channel\u001b[0m\u001b[0;34m\u001b[0m\u001b[0;34m\u001b[0m\u001b[0;34m\u001b[0m\u001b[0m\n\u001b[1;32m      4\u001b[0m \u001b[0mbluech\u001b[0m \u001b[0;34m=\u001b[0m \u001b[0mimage\u001b[0m\u001b[0;34m[\u001b[0m\u001b[0;34m:\u001b[0m\u001b[0;34m,\u001b[0m\u001b[0;34m:\u001b[0m\u001b[0;34m,\u001b[0m\u001b[0;36m0\u001b[0m\u001b[0;34m]\u001b[0m\u001b[0;34m\u001b[0m\u001b[0;34m\u001b[0m\u001b[0m\n\u001b[1;32m      5\u001b[0m \u001b[0mcv2_imshow\u001b[0m\u001b[0;34m(\u001b[0m\u001b[0mbluech\u001b[0m\u001b[0;34m)\u001b[0m\u001b[0;34m\u001b[0m\u001b[0;34m\u001b[0m\u001b[0m\n",
            "\u001b[0;32m/usr/local/lib/python3.7/dist-packages/skimage/io/_io.py\u001b[0m in \u001b[0;36mimread\u001b[0;34m(fname, as_gray, plugin, **plugin_args)\u001b[0m\n\u001b[1;32m     46\u001b[0m \u001b[0;34m\u001b[0m\u001b[0m\n\u001b[1;32m     47\u001b[0m     \u001b[0;32mwith\u001b[0m \u001b[0mfile_or_url_context\u001b[0m\u001b[0;34m(\u001b[0m\u001b[0mfname\u001b[0m\u001b[0;34m)\u001b[0m \u001b[0;32mas\u001b[0m \u001b[0mfname\u001b[0m\u001b[0;34m:\u001b[0m\u001b[0;34m\u001b[0m\u001b[0;34m\u001b[0m\u001b[0m\n\u001b[0;32m---> 48\u001b[0;31m         \u001b[0mimg\u001b[0m \u001b[0;34m=\u001b[0m \u001b[0mcall_plugin\u001b[0m\u001b[0;34m(\u001b[0m\u001b[0;34m'imread'\u001b[0m\u001b[0;34m,\u001b[0m \u001b[0mfname\u001b[0m\u001b[0;34m,\u001b[0m \u001b[0mplugin\u001b[0m\u001b[0;34m=\u001b[0m\u001b[0mplugin\u001b[0m\u001b[0;34m,\u001b[0m \u001b[0;34m**\u001b[0m\u001b[0mplugin_args\u001b[0m\u001b[0;34m)\u001b[0m\u001b[0;34m\u001b[0m\u001b[0;34m\u001b[0m\u001b[0m\n\u001b[0m\u001b[1;32m     49\u001b[0m \u001b[0;34m\u001b[0m\u001b[0m\n\u001b[1;32m     50\u001b[0m     \u001b[0;32mif\u001b[0m \u001b[0;32mnot\u001b[0m \u001b[0mhasattr\u001b[0m\u001b[0;34m(\u001b[0m\u001b[0mimg\u001b[0m\u001b[0;34m,\u001b[0m \u001b[0;34m'ndim'\u001b[0m\u001b[0;34m)\u001b[0m\u001b[0;34m:\u001b[0m\u001b[0;34m\u001b[0m\u001b[0;34m\u001b[0m\u001b[0m\n",
            "\u001b[0;32m/usr/local/lib/python3.7/dist-packages/skimage/io/manage_plugins.py\u001b[0m in \u001b[0;36mcall_plugin\u001b[0;34m(kind, *args, **kwargs)\u001b[0m\n\u001b[1;32m    205\u001b[0m                                (plugin, kind))\n\u001b[1;32m    206\u001b[0m \u001b[0;34m\u001b[0m\u001b[0m\n\u001b[0;32m--> 207\u001b[0;31m     \u001b[0;32mreturn\u001b[0m \u001b[0mfunc\u001b[0m\u001b[0;34m(\u001b[0m\u001b[0;34m*\u001b[0m\u001b[0margs\u001b[0m\u001b[0;34m,\u001b[0m \u001b[0;34m**\u001b[0m\u001b[0mkwargs\u001b[0m\u001b[0;34m)\u001b[0m\u001b[0;34m\u001b[0m\u001b[0;34m\u001b[0m\u001b[0m\n\u001b[0m\u001b[1;32m    208\u001b[0m \u001b[0;34m\u001b[0m\u001b[0m\n\u001b[1;32m    209\u001b[0m \u001b[0;34m\u001b[0m\u001b[0m\n",
            "\u001b[0;32m/usr/local/lib/python3.7/dist-packages/skimage/io/_plugins/imageio_plugin.py\u001b[0m in \u001b[0;36mimread\u001b[0;34m(*args, **kwargs)\u001b[0m\n\u001b[1;32m      8\u001b[0m \u001b[0;34m@\u001b[0m\u001b[0mwraps\u001b[0m\u001b[0;34m(\u001b[0m\u001b[0mimageio_imread\u001b[0m\u001b[0;34m)\u001b[0m\u001b[0;34m\u001b[0m\u001b[0;34m\u001b[0m\u001b[0m\n\u001b[1;32m      9\u001b[0m \u001b[0;32mdef\u001b[0m \u001b[0mimread\u001b[0m\u001b[0;34m(\u001b[0m\u001b[0;34m*\u001b[0m\u001b[0margs\u001b[0m\u001b[0;34m,\u001b[0m \u001b[0;34m**\u001b[0m\u001b[0mkwargs\u001b[0m\u001b[0;34m)\u001b[0m\u001b[0;34m:\u001b[0m\u001b[0;34m\u001b[0m\u001b[0;34m\u001b[0m\u001b[0m\n\u001b[0;32m---> 10\u001b[0;31m     \u001b[0;32mreturn\u001b[0m \u001b[0mnp\u001b[0m\u001b[0;34m.\u001b[0m\u001b[0masarray\u001b[0m\u001b[0;34m(\u001b[0m\u001b[0mimageio_imread\u001b[0m\u001b[0;34m(\u001b[0m\u001b[0;34m*\u001b[0m\u001b[0margs\u001b[0m\u001b[0;34m,\u001b[0m \u001b[0;34m**\u001b[0m\u001b[0mkwargs\u001b[0m\u001b[0;34m)\u001b[0m\u001b[0;34m)\u001b[0m\u001b[0;34m\u001b[0m\u001b[0;34m\u001b[0m\u001b[0m\n\u001b[0m",
            "\u001b[0;32m/usr/local/lib/python3.7/dist-packages/imageio/core/functions.py\u001b[0m in \u001b[0;36mimread\u001b[0;34m(uri, format, **kwargs)\u001b[0m\n\u001b[1;32m    263\u001b[0m \u001b[0;34m\u001b[0m\u001b[0m\n\u001b[1;32m    264\u001b[0m     \u001b[0;31m# Get reader and read first\u001b[0m\u001b[0;34m\u001b[0m\u001b[0;34m\u001b[0m\u001b[0;34m\u001b[0m\u001b[0m\n\u001b[0;32m--> 265\u001b[0;31m     \u001b[0mreader\u001b[0m \u001b[0;34m=\u001b[0m \u001b[0mread\u001b[0m\u001b[0;34m(\u001b[0m\u001b[0muri\u001b[0m\u001b[0;34m,\u001b[0m \u001b[0mformat\u001b[0m\u001b[0;34m,\u001b[0m \u001b[0;34m\"i\"\u001b[0m\u001b[0;34m,\u001b[0m \u001b[0;34m**\u001b[0m\u001b[0mkwargs\u001b[0m\u001b[0;34m)\u001b[0m\u001b[0;34m\u001b[0m\u001b[0;34m\u001b[0m\u001b[0m\n\u001b[0m\u001b[1;32m    266\u001b[0m     \u001b[0;32mwith\u001b[0m \u001b[0mreader\u001b[0m\u001b[0;34m:\u001b[0m\u001b[0;34m\u001b[0m\u001b[0;34m\u001b[0m\u001b[0m\n\u001b[1;32m    267\u001b[0m         \u001b[0;32mreturn\u001b[0m \u001b[0mreader\u001b[0m\u001b[0;34m.\u001b[0m\u001b[0mget_data\u001b[0m\u001b[0;34m(\u001b[0m\u001b[0;36m0\u001b[0m\u001b[0;34m)\u001b[0m\u001b[0;34m\u001b[0m\u001b[0;34m\u001b[0m\u001b[0m\n",
            "\u001b[0;32m/usr/local/lib/python3.7/dist-packages/imageio/core/functions.py\u001b[0m in \u001b[0;36mget_reader\u001b[0;34m(uri, format, mode, **kwargs)\u001b[0m\n\u001b[1;32m    180\u001b[0m         \u001b[0mmodename\u001b[0m \u001b[0;34m=\u001b[0m \u001b[0mMODENAMES\u001b[0m\u001b[0;34m.\u001b[0m\u001b[0mget\u001b[0m\u001b[0;34m(\u001b[0m\u001b[0mmode\u001b[0m\u001b[0;34m,\u001b[0m \u001b[0mmode\u001b[0m\u001b[0;34m)\u001b[0m\u001b[0;34m\u001b[0m\u001b[0;34m\u001b[0m\u001b[0m\n\u001b[1;32m    181\u001b[0m         raise ValueError(\n\u001b[0;32m--> 182\u001b[0;31m             \u001b[0;34m\"Could not find a format to read the specified file in %s mode\"\u001b[0m \u001b[0;34m%\u001b[0m \u001b[0mmodename\u001b[0m\u001b[0;34m\u001b[0m\u001b[0;34m\u001b[0m\u001b[0m\n\u001b[0m\u001b[1;32m    183\u001b[0m         )\n\u001b[1;32m    184\u001b[0m \u001b[0;34m\u001b[0m\u001b[0m\n",
            "\u001b[0;31mValueError\u001b[0m: Could not find a format to read the specified file in single-image mode"
          ]
        }
      ]
    },
    {
      "cell_type": "code",
      "source": [
        "plt.hist(bluech.ravel(), 16, [0, 256], color='blue')\n",
        "plt.xlabel('Bins 16')\n",
        "plt.ylabel('Num of Pixel')\n",
        "plt.show()"
      ],
      "metadata": {
        "id": "18j1TCn3rgzR",
        "outputId": "f67bed5b-b91a-4a06-afd4-583997e54f19",
        "colab": {
          "base_uri": "https://localhost:8080/",
          "height": 279
        }
      },
      "execution_count": 53,
      "outputs": [
        {
          "output_type": "display_data",
          "data": {
            "text/plain": [
              "<Figure size 432x288 with 1 Axes>"
            ],
            "image/png": "[encoded data removed]"
          },
          "metadata": {
            "needs_background": "light"
          }
        }
      ]
    },
    {
      "cell_type": "code",
      "source": [
        "plt.hist(bluech.ravel(), 8, [0, 256], color='blue')\n",
        "plt.xlabel('Bins 32')\n",
        "plt.ylabel('Num of Pixel')\n",
        "plt.show()"
      ],
      "metadata": {
        "id": "36fJMrLa9ecI",
        "outputId": "cc4c1db4-e551-4867-e784-29fbaee73765",
        "colab": {
          "base_uri": "https://localhost:8080/",
          "height": 279
        }
      },
      "execution_count": 54,
      "outputs": [
        {
          "output_type": "display_data",
          "data": {
            "text/plain": [
              "<Figure size 432x288 with 1 Axes>"
            ],
            "image/png": "[encoded data removed]"
          },
          "metadata": {
            "needs_background": "light"
          }
        }
      ]
    },
    {
      "cell_type": "code",
      "source": [
        "plt.hist(bluech.ravel(), 32, [0, 256], color='blue')\n",
        "plt.xlabel('Bins 8')\n",
        "plt.ylabel('Num of Pixel')\n",
        "plt.show()"
      ],
      "metadata": {
        "id": "oUu5yyLY9iNO",
        "outputId": "07f812bf-2836-4d5e-955e-91ea715cda41",
        "colab": {
          "base_uri": "https://localhost:8080/",
          "height": 279
        }
      },
      "execution_count": 55,
      "outputs": [
        {
          "output_type": "display_data",
          "data": {
            "text/plain": [
              "<Figure size 432x288 with 1 Axes>"
            ],
            "image/png": "[encoded data removed]"
          },
          "metadata": {
            "needs_background": "light"
          }
        }
      ]
    },
    {
      "cell_type": "code",
      "source": [
        "plt.hist(bluech.ravel(), 256, [0, 256], color='blue')\n",
        "plt.xlabel('Bins 256')\n",
        "plt.ylabel('Num of Pixel')\n",
        "plt.show()"
      ],
      "metadata": {
        "id": "aawzPYQo9lu4",
        "outputId": "8f19d4c2-3d92-41ec-a8e7-e895c4d72261",
        "colab": {
          "base_uri": "https://localhost:8080/",
          "height": 279
        }
      },
      "execution_count": 56,
      "outputs": [
        {
          "output_type": "display_data",
          "data": {
            "text/plain": [
              "<Figure size 432x288 with 1 Axes>"
            ],
            "image/png": "[encoded data removed]"
          },
          "metadata": {
            "needs_background": "light"
          }
        }
      ]
    },
    {
      "cell_type": "code",
      "source": [
        "plt.hist(bluech.ravel(), 4, [0, 256], color='blue')\n",
        "plt.xlabel('Bins 4')\n",
        "plt.ylabel('Num of Pixel')\n",
        "plt.show()"
      ],
      "metadata": {
        "id": "EkNLIL2F9pLe"
      },
      "execution_count": null,
      "outputs": []
    },
    {
      "cell_type": "code",
      "source": [
        "#green channel\n",
        "greench = image[:,:,1]\n",
        "cv2_imshow(greench)"
      ],
      "metadata": {
        "id": "ok8nYgw69rTf"
      },
      "execution_count": null,
      "outputs": []
    },
    {
      "cell_type": "code",
      "source": [
        "plt.hist(bluech.ravel(), 8, [0, 256], color='green')\n",
        "plt.xlabel('Bins 32')\n",
        "plt.ylabel('Num of Pixel')\n",
        "plt.show()"
      ],
      "metadata": {
        "id": "HaLkijFk9t5m"
      },
      "execution_count": null,
      "outputs": []
    },
    {
      "cell_type": "code",
      "source": [
        "plt.hist(bluech.ravel(), 16, [0, 256], color='green')\n",
        "plt.xlabel('Bins 16')\n",
        "plt.ylabel('Num of Pixel')\n",
        "plt.show()"
      ],
      "metadata": {
        "id": "Oz3xQQsT9wd1"
      },
      "execution_count": null,
      "outputs": []
    },
    {
      "cell_type": "code",
      "source": [
        "plt.hist(bluech.ravel(), 32, [0, 256], color='green')\n",
        "plt.xlabel('Bins 8')\n",
        "plt.ylabel('Num of Pixel')\n",
        "plt.show()"
      ],
      "metadata": {
        "id": "KSCTkb1r9zTE"
      },
      "execution_count": null,
      "outputs": []
    },
    {
      "cell_type": "code",
      "source": [
        "plt.hist(bluech.ravel(), 256, [0, 256], color='green')\n",
        "plt.xlabel('Bins 256')\n",
        "plt.ylabel('Num of Pixel')\n",
        "plt.show()"
      ],
      "metadata": {
        "id": "ipKAcZWi91qr"
      },
      "execution_count": null,
      "outputs": []
    },
    {
      "cell_type": "code",
      "source": [
        "#red channel\n",
        "\n",
        "redch = image[:,:,2]\n",
        "cv2_imshow(redch)"
      ],
      "metadata": {
        "id": "AbdeCFXG95ry"
      },
      "execution_count": null,
      "outputs": []
    },
    {
      "cell_type": "code",
      "source": [
        "plt.hist(redch.ravel(), 256, [0, 256], color='red')\n",
        "plt.xlabel('Bins 256')\n",
        "plt.ylabel('Num of Pixel')\n",
        "plt.show()"
      ],
      "metadata": {
        "id": "_-0Sz8Iz98f0"
      },
      "execution_count": null,
      "outputs": []
    },
    {
      "cell_type": "code",
      "source": [
        "plt.hist(redch.ravel(), 32, [0, 256], color='red')\n",
        "plt.xlabel('Bins 8')\n",
        "plt.ylabel('Num of Pixel')\n",
        "plt.show()"
      ],
      "metadata": {
        "id": "7NdVr3LW99IK"
      },
      "execution_count": null,
      "outputs": []
    },
    {
      "cell_type": "code",
      "source": [
        "plt.hist(redch.ravel(), 16, [0, 256], color='red')\n",
        "plt.xlabel('Bins 16')\n",
        "plt.ylabel('Num of Pixel')"
      ],
      "metadata": {
        "id": "IFQMoTOL-BVg"
      },
      "execution_count": null,
      "outputs": []
    },
    {
      "cell_type": "code",
      "source": [
        "plt.hist(redch.ravel(), 8, [0, 256], color='red')\n",
        "plt.xlabel('Bins 32')\n",
        "plt.ylabel('Num of Pixel')"
      ],
      "metadata": {
        "id": "lLlVc1Lk-Dx_"
      },
      "execution_count": null,
      "outputs": []
    },
    {
      "cell_type": "code",
      "source": [
        "plt.hist(redch.ravel(), 4, [0, 256], color='red')\n",
        "plt.xlabel('Bins 4')\n",
        "plt.ylabel('Num of Pixel')"
      ],
      "metadata": {
        "id": "0eLcaMag-Ej_"
      },
      "execution_count": null,
      "outputs": []
    },
    {
      "cell_type": "code",
      "source": [
        "gray_image = cv.cvtColor(image, cv.COLOR_BGR2GRAY)\n",
        "cv2_imshow(gray_image)"
      ],
      "metadata": {
        "id": "doOLdCIb-HJm"
      },
      "execution_count": null,
      "outputs": []
    },
    {
      "cell_type": "code",
      "source": [
        "plt.hist(gray_image.ravel(), bins = 256, range = [0,256])\n",
        "plt.show()\n",
        "\n",
        "\n",
        "print(gray_image.size)\n",
        "print(gray_image.shape)\n",
        "print(gray_image.dtype)"
      ],
      "metadata": {
        "id": "ZrFNmvtA-LTC"
      },
      "execution_count": null,
      "outputs": []
    },
    {
      "cell_type": "code",
      "source": [
        "plt.hist(gray_image.ravel(), bins = 4, range = [0,256])\n",
        "plt.show()\n",
        "print(gray_image.size)\n",
        "print(gray_image.shape)\n",
        "print(gray_image.dtype)"
      ],
      "metadata": {
        "id": "149RKxhe-N9x"
      },
      "execution_count": null,
      "outputs": []
    },
    {
      "cell_type": "code",
      "source": [
        "invert_gray = 255 - gray_image\n",
        "cv2_imshow(invert_gray)"
      ],
      "metadata": {
        "id": "d8ZZiZuG-QZx"
      },
      "execution_count": null,
      "outputs": []
    },
    {
      "cell_type": "code",
      "source": [
        "plt.hist(invert_gray.ravel(), bins = 256, range = [0,256])\n",
        "plt.show()"
      ],
      "metadata": {
        "id": "55D5cyeh-Sv1"
      },
      "execution_count": null,
      "outputs": []
    },
    {
      "cell_type": "code",
      "source": [
        "bright_image = (100.0/255)*gray_image + 100\n",
        "cv2_imshow(bright_image)"
      ],
      "metadata": {
        "id": "KaSHxsAY-VPm"
      },
      "execution_count": null,
      "outputs": []
    },
    {
      "cell_type": "code",
      "source": [
        "plt.hist(bright_image.ravel(), bins = 256, range = [0,256])\n",
        "plt.show()"
      ],
      "metadata": {
        "id": "iMVrJ9gH-Xga"
      },
      "execution_count": null,
      "outputs": []
    },
    {
      "cell_type": "code",
      "source": [
        "darken_image = 255.0*(gray_image/255.0)**2\n",
        "cv2_imshow(darken_image)"
      ],
      "metadata": {
        "id": "fIQ-rwzk-Z27"
      },
      "execution_count": null,
      "outputs": []
    },
    {
      "cell_type": "code",
      "source": [
        "plt.hist(darken_image.ravel(), bins = 256, range = [0,256])\n",
        "plt.show()"
      ],
      "metadata": {
        "id": "gu3IufYV-ccz"
      },
      "execution_count": null,
      "outputs": []
    }
  ]
}